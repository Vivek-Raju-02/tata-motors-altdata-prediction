{
 "cells": [
  {
   "cell_type": "markdown",
   "id": "8e7d6573",
   "metadata": {},
   "source": [
    "# 01 - Data Cleaning & Exploration\n",
    "\n",
    "This notebook loads, cleans, and explores the alternative dataset for Tata Motors analysis."
   ]
  },
  {
   "cell_type": "code",
   "execution_count": null,
   "id": "2b7f4b04",
   "metadata": {},
   "outputs": [],
   "source": [
    "import pandas as pd\n",
    "import matplotlib.pyplot as plt\n",
    "from src.data_cleaning import load_data, clean_data, save_cleaned_data"
   ]
  },
  {
   "cell_type": "code",
   "execution_count": null,
   "id": "853ffdc5",
   "metadata": {},
   "outputs": [],
   "source": [
    "# Load data\n",
    "raw_df = load_data('data/simulated_auto_sales.csv')\n",
    "raw_df.head()"
   ]
  },
  {
   "cell_type": "code",
   "execution_count": null,
   "id": "602ceab4",
   "metadata": {},
   "outputs": [],
   "source": [
    "# Clean data\n",
    "cleaned_df = clean_data(raw_df)\n",
    "cleaned_df.head()"
   ]
  },
  {
   "cell_type": "code",
   "execution_count": null,
   "id": "755abf64",
   "metadata": {},
   "outputs": [],
   "source": [
    "# Save cleaned data\n",
    "save_cleaned_data(cleaned_df, 'data/cleaned_auto_sales.csv')"
   ]
  },
  {
   "cell_type": "code",
   "execution_count": null,
   "id": "1b88ca45",
   "metadata": {},
   "outputs": [],
   "source": [
    "# Basic EDA\n",
    "cleaned_df.describe()"
   ]
  },
  {
   "cell_type": "code",
   "execution_count": null,
   "id": "468efe63",
   "metadata": {},
   "outputs": [],
   "source": [
    "cleaned_df.isnull().sum()"
   ]
  },
  {
   "cell_type": "code",
   "execution_count": null,
   "id": "f43174cc",
   "metadata": {},
   "outputs": [],
   "source": [
    "cleaned_df.plot(figsize=(12,6), title='Cleaned Auto Sales Data')\n",
    "plt.tight_layout()\n",
    "plt.show()"
   ]
  }
 ],
 "metadata": {},
 "nbformat": 4,
 "nbformat_minor": 5
}
